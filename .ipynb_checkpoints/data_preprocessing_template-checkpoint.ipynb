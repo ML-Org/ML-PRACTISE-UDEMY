{
 "cells": [
  {
   "cell_type": "markdown",
   "metadata": {},
   "source": [
    "##### DATA PRE-PROCESSING\n",
    "In this notebook let's read a dataset from CSV, prepare data by ignoring a column and creating a dataset and create an another dataset with ignored column alone.\n",
    "We shall also fill the missing values in the dataset using ***Imputer from sykitlearn***"
   ]
  },
  {
   "cell_type": "code",
   "execution_count": null,
   "metadata": {},
   "outputs": [],
   "source": [
    "#NumPy is the fundamental package for scientific computing with Python\n",
    "import numpy as np\n",
    "# Provides a MATLAB-like plotting framework.\n",
    "import matplotlib.pyplot as plt\n",
    "#high-performance, easy-to-use data structures and data analysis tools for the Python programming \n",
    "import pandas as pd"
   ]
  },
  {
   "cell_type": "markdown",
   "metadata": {},
   "source": [
    "###### Read csv using pandas - pandas.read_csv returns a data-frame with csv content\n",
    "| 0       | 1   | 2      | 3         | \n",
    "|---------|-----|--------|-----------| \n",
    "| Country | Age | Salary | Purchased | \n",
    "| France  | 44  | 72000  | No        | \n",
    "| Spain   | 27  | 48000  | Yes       | \n",
    "| Germany | 30  | 54000  | No        | \n",
    "| Spain   | 38  | 61000  | No        | \n",
    "| Germany | 40  | NaN    | Yes       | \n",
    "| France  | 35  | 58000  | Yes       | \n",
    "| Spain   | NaN | 52000  | No        | \n",
    "| France  | 48  | 79000  | Yes       | \n",
    "| Germany | 50  | 83000  | No        | \n",
    "| France  | 37  | 67000  | Yes       | \n"
   ]
  },
  {
   "cell_type": "code",
   "execution_count": null,
   "metadata": {},
   "outputs": [],
   "source": [
    "dataset = pd.read_csv('./Dataset/Data.csv')"
   ]
  },
  {
   "cell_type": "markdown",
   "metadata": {},
   "source": [
    "```dataset.iloc``` is used to select values based on indices\n",
    "iloc [x,y] - x range of rows, y range of columns"
   ]
  },
  {
   "cell_type": "code",
   "execution_count": 36,
   "metadata": {},
   "outputs": [
    {
     "name": "stdout",
     "output_type": "stream",
     "text": [
      "[['France' 44.0 72000.0]\n",
      " ['Spain' 27.0 48000.0]\n",
      " ['Germany' 30.0 54000.0]\n",
      " ['Spain' 38.0 61000.0]\n",
      " ['Germany' 40.0 nan]\n",
      " ['France' 35.0 58000.0]\n",
      " ['Spain' nan 52000.0]\n",
      " ['France' 48.0 79000.0]\n",
      " ['Germany' 50.0 83000.0]\n",
      " ['France' 37.0 67000.0]]\n"
     ]
    }
   ],
   "source": [
    "#select all rows, and columns except the last column \"Purchased\" - refer Data.csv\n",
    "X = dataset.iloc[: , : -1].values\n",
    "print(X)"
   ]
  },
  {
   "cell_type": "markdown",
   "metadata": {},
   "source": [
    "##### Creating a dependent variable vector from ignored column"
   ]
  },
  {
   "cell_type": "code",
   "execution_count": 38,
   "metadata": {},
   "outputs": [
    {
     "name": "stdout",
     "output_type": "stream",
     "text": [
      "['No' 'Yes' 'No' 'No' 'Yes' 'Yes' 'No' 'Yes' 'No' 'Yes']\n"
     ]
    }
   ],
   "source": [
    "#select all rows, and only the last ignored column\n",
    "#index in python starts with 0\n",
    "Y = dataset.iloc[:,3].values\n",
    "print(Y)"
   ]
  },
  {
   "cell_type": "markdown",
   "metadata": {},
   "source": [
    "##### Taking care of missing data in the dataset"
   ]
  },
  {
   "cell_type": "code",
   "execution_count": 2,
   "metadata": {},
   "outputs": [],
   "source": [
    "from sklearn.preprocessing import Imputer"
   ]
  },
  {
   "cell_type": "code",
   "execution_count": 5,
   "metadata": {},
   "outputs": [
    {
     "name": "stdout",
     "output_type": "stream",
     "text": [
      "Imputer(axis=0, copy=True, missing_values='NaN', strategy='mean', verbose=0)\n"
     ]
    }
   ],
   "source": [
    "# axis =0 -> column wide\n",
    "# axis = 1 -> row wide\n",
    "imputer = Imputer(missing_values='NaN',strategy=\"mean\",axis=0)\n",
    "print(imputer)"
   ]
  },
  {
   "cell_type": "code",
   "execution_count": null,
   "metadata": {},
   "outputs": [],
   "source": []
  }
 ],
 "metadata": {
  "kernelspec": {
   "display_name": "Python 3",
   "language": "python",
   "name": "python3"
  },
  "language_info": {
   "codemirror_mode": {
    "name": "ipython",
    "version": 3
   },
   "file_extension": ".py",
   "mimetype": "text/x-python",
   "name": "python",
   "nbconvert_exporter": "python",
   "pygments_lexer": "ipython3",
   "version": "3.6.3"
  }
 },
 "nbformat": 4,
 "nbformat_minor": 1
}
